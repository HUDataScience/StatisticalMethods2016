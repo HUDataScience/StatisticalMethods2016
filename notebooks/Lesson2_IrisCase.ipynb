{
 "cells": [
  {
   "cell_type": "code",
   "execution_count": 1,
   "metadata": {
    "collapsed": true
   },
   "outputs": [],
   "source": [
    "# ==  Basic import == #\n",
    "# plot within the notebook\n",
    "%matplotlib inline\n",
    "# No annoying warnings\n",
    "import warnings\n",
    "warnings.filterwarnings('ignore')"
   ]
  },
  {
   "cell_type": "markdown",
   "metadata": {},
   "source": [
    "#  Open a file, read the data and create your numpy array"
   ]
  },
  {
   "cell_type": "code",
   "execution_count": 17,
   "metadata": {
    "collapsed": true
   },
   "outputs": [],
   "source": [
    "import numpy as np"
   ]
  },
  {
   "cell_type": "code",
   "execution_count": 18,
   "metadata": {
    "collapsed": false
   },
   "outputs": [],
   "source": [
    "datafile = open(\"data/iris.csv\").read().splitlines()"
   ]
  },
  {
   "cell_type": "code",
   "execution_count": 19,
   "metadata": {
    "collapsed": false
   },
   "outputs": [],
   "source": [
    "entires = np.asarray(datafile[0].split(\",\"))"
   ]
  },
  {
   "cell_type": "code",
   "execution_count": 20,
   "metadata": {
    "collapsed": false
   },
   "outputs": [
    {
     "data": {
      "text/plain": [
       "array(['sepal_length', 'sepal_width', 'petal_length', 'petal_width',\n",
       "       'species'], \n",
       "      dtype='|S12')"
      ]
     },
     "execution_count": 20,
     "metadata": {},
     "output_type": "execute_result"
    }
   ],
   "source": [
    "entires"
   ]
  },
  {
   "cell_type": "code",
   "execution_count": 24,
   "metadata": {
    "collapsed": false
   },
   "outputs": [],
   "source": [
    "sepal_length, sepal_width, petal_length, petal_width,species = [],[],[],[],[] # DON'T [[]]*5"
   ]
  },
  {
   "cell_type": "code",
   "execution_count": 25,
   "metadata": {
    "collapsed": false
   },
   "outputs": [
    {
     "data": {
      "text/plain": [
       "[]"
      ]
     },
     "execution_count": 25,
     "metadata": {},
     "output_type": "execute_result"
    }
   ],
   "source": [
    "sepal_length"
   ]
  },
  {
   "cell_type": "code",
   "execution_count": 27,
   "metadata": {
    "collapsed": true
   },
   "outputs": [],
   "source": [
    "for dd in datafile[1:]:\n",
    "    sepal_length_, sepal_width_, petal_length_, petal_width_,species_ = dd.split(\",\")\n",
    "    sepal_length.append(sepal_length_)\n",
    "    sepal_width.append(sepal_width_)\n",
    "    petal_length.append(petal_length_)\n",
    "    petal_width.append(petal_width_)\n",
    "    species.append(species_)\n",
    "    \n",
    "    \n",
    "sepal_length = np.asarray(sepal_length)\n",
    "sepal_width = np.asarray(sepal_width)\n",
    "petal_length = np.asarray(petal_length)\n",
    "petal_width = np.asarray(petal_width)\n",
    "species = np.asarray(species)"
   ]
  },
  {
   "cell_type": "code",
   "execution_count": 30,
   "metadata": {
    "collapsed": false
   },
   "outputs": [],
   "source": [
    "species_unique = np.unique(species)"
   ]
  },
  {
   "cell_type": "markdown",
   "metadata": {},
   "source": [
    "# Let analyze things by species"
   ]
  },
  {
   "cell_type": "code",
   "execution_count": 31,
   "metadata": {
    "collapsed": false
   },
   "outputs": [
    {
     "data": {
      "text/plain": [
       "array(['5.1', '4.9', '4.7', '4.6', '5.0', '5.4', '4.6', '5.0', '4.4',\n",
       "       '4.9', '5.4', '4.8', '4.8', '4.3', '5.8', '5.7', '5.4', '5.1',\n",
       "       '5.7', '5.1', '5.4', '5.1', '4.6', '5.1', '4.8', '5.0', '5.0',\n",
       "       '5.2', '5.2', '4.7', '4.8', '5.4', '5.2', '5.5', '4.9', '5.0',\n",
       "       '5.5', '4.9', '4.4', '5.1', '5.0', '4.5', '4.4', '5.0', '5.1',\n",
       "       '4.8', '5.1', '4.6', '5.3', '5.0', '5.1', '4.9', '4.7', '4.6',\n",
       "       '5.0', '5.4', '4.6', '5.0', '4.4', '4.9', '5.4', '4.8', '4.8',\n",
       "       '4.3', '5.8', '5.7', '5.4', '5.1', '5.7', '5.1', '5.4', '5.1',\n",
       "       '4.6', '5.1', '4.8', '5.0', '5.0', '5.2', '5.2', '4.7', '4.8',\n",
       "       '5.4', '5.2', '5.5', '4.9', '5.0', '5.5', '4.9', '4.4', '5.1',\n",
       "       '5.0', '4.5', '4.4', '5.0', '5.1', '4.8', '5.1', '4.6', '5.3', '5.0'], \n",
       "      dtype='|S3')"
      ]
     },
     "execution_count": 31,
     "metadata": {},
     "output_type": "execute_result"
    }
   ],
   "source": [
    "sepal_length[species==\"setosa\"]"
   ]
  },
  {
   "cell_type": "code",
   "execution_count": 33,
   "metadata": {
    "collapsed": false
   },
   "outputs": [
    {
     "data": {
      "text/plain": [
       "array(['7.0', '6.4', '6.9', '5.5', '6.5', '5.7', '6.3', '4.9', '6.6',\n",
       "       '5.2', '5.0', '5.9', '6.0', '6.1', '5.6', '6.7', '5.6', '5.8',\n",
       "       '6.2', '5.6', '5.9', '6.1', '6.3', '6.1', '6.4', '6.6', '6.8',\n",
       "       '6.7', '6.0', '5.7', '5.5', '5.5', '5.8', '6.0', '5.4', '6.0',\n",
       "       '6.7', '6.3', '5.6', '5.5', '5.5', '6.1', '5.8', '5.0', '5.6',\n",
       "       '5.7', '5.7', '6.2', '5.1', '5.7', '7.0', '6.4', '6.9', '5.5',\n",
       "       '6.5', '5.7', '6.3', '4.9', '6.6', '5.2', '5.0', '5.9', '6.0',\n",
       "       '6.1', '5.6', '6.7', '5.6', '5.8', '6.2', '5.6', '5.9', '6.1',\n",
       "       '6.3', '6.1', '6.4', '6.6', '6.8', '6.7', '6.0', '5.7', '5.5',\n",
       "       '5.5', '5.8', '6.0', '5.4', '6.0', '6.7', '6.3', '5.6', '5.5',\n",
       "       '5.5', '6.1', '5.8', '5.0', '5.6', '5.7', '5.7', '6.2', '5.1', '5.7'], \n",
       "      dtype='|S3')"
      ]
     },
     "execution_count": 33,
     "metadata": {},
     "output_type": "execute_result"
    }
   ],
   "source": [
    "sepal_length[species==\"versicolor\"]"
   ]
  },
  {
   "cell_type": "code",
   "execution_count": 34,
   "metadata": {
    "collapsed": false
   },
   "outputs": [],
   "source": [
    "import matplotlib.pyplot as mpl"
   ]
  },
  {
   "cell_type": "code",
   "execution_count": 45,
   "metadata": {
    "collapsed": false
   },
   "outputs": [
    {
     "data": {
      "text/plain": [
       "<matplotlib.legend.Legend at 0x10673f990>"
      ]
     },
     "execution_count": 45,
     "metadata": {},
     "output_type": "execute_result"
    },
    {
     "data": {
      "image/png": "[encoded data removed]",
      "text/plain": [
       "<matplotlib.figure.Figure at 0x105f0a2d0>"
      ]
     },
     "metadata": {},
     "output_type": "display_data"
    }
   ],
   "source": [
    "mpl.scatter(sepal_length[species==\"versicolor\"], petal_length[species==\"versicolor\"], \n",
    "            s=150, facecolors=mpl.cm.Blues(0.6,0.4), label=\"versicolor\")\n",
    "\n",
    "mpl.scatter(sepal_length[species==\"setosa\"], petal_length[species==\"setosa\"], \n",
    "            s=150, facecolors=mpl.cm.Reds(0.6,0.4), label=\"setosa\")\n",
    "\n",
    "mpl.scatter(sepal_length[species==\"virginica\"], petal_length[species==\"virginica\"], \n",
    "            s=150, facecolors=mpl.cm.Greens(0.6,0.4), label=\"virginica\")\n",
    "\n",
    "mpl.xlabel(\"Sepal Length\", fontsize = \"xx-large\")\n",
    "mpl.ylabel(\"Petal Length\", fontsize = \"xx-large\")\n",
    "mpl.legend(loc=\"upper left\", frameon=False)"
   ]
  },
  {
   "cell_type": "code",
   "execution_count": 44,
   "metadata": {
    "collapsed": false
   },
   "outputs": [
    {
     "data": {
      "text/plain": [
       "array(['setosa', 'versicolor', 'virginica'], \n",
       "      dtype='|S10')"
      ]
     },
     "execution_count": 44,
     "metadata": {},
     "output_type": "execute_result"
    }
   ],
   "source": [
    "species_unique"
   ]
  },
  {
   "cell_type": "code",
   "execution_count": 47,
   "metadata": {
    "collapsed": false
   },
   "outputs": [],
   "source": [
    "def nmad(x):\n",
    "    return x*2"
   ]
  },
  {
   "cell_type": "code",
   "execution_count": 48,
   "metadata": {
    "collapsed": false
   },
   "outputs": [
    {
     "data": {
      "text/plain": [
       "6"
      ]
     },
     "execution_count": 48,
     "metadata": {},
     "output_type": "execute_result"
    }
   ],
   "source": [
    "nmad(3)"
   ]
  },
  {
   "cell_type": "code",
   "execution_count": null,
   "metadata": {
    "collapsed": true
   },
   "outputs": [],
   "source": [
    "\\\\\\\\\\\\\\\\"
   ]
  }
 ],
 "metadata": {
  "kernelspec": {
   "display_name": "Python 2",
   "language": "python",
   "name": "python2"
  },
  "language_info": {
   "codemirror_mode": {
    "name": "ipython",
    "version": 2
   },
   "file_extension": ".py",
   "mimetype": "text/x-python",
   "name": "python",
   "nbconvert_exporter": "python",
   "pygments_lexer": "ipython2",
   "version": "2.7.10"
  }
 },
 "nbformat": 4,
 "nbformat_minor": 0
}
