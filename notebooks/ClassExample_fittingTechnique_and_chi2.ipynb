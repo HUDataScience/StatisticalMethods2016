{
 "cells": [
  {
   "cell_type": "markdown",
   "metadata": {},
   "source": [
    "# Fit data using `Minimize`\n",
    "**on the power of object oriented programation**\n",
    "\n",
    "In this notebook, developped in together during the class, we will fit predifined data using two models. We will develop a fitting technique that can handle any can of model that we can fit with a chi2 technique."
   ]
  },
  {
   "cell_type": "code",
   "execution_count": 5,
   "metadata": {
    "collapsed": true
   },
   "outputs": [],
   "source": [
    "# ==  Basic import == #\n",
    "# plot within the notebook\n",
    "%matplotlib inline\n",
    "# No annoying warnings\n",
    "import warnings\n",
    "warnings.filterwarnings('ignore')"
   ]
  },
  {
   "cell_type": "code",
   "execution_count": 6,
   "metadata": {
    "collapsed": true
   },
   "outputs": [],
   "source": [
    "import numpy as np\n",
    "import matplotlib.pyplot as mpl"
   ]
  },
  {
   "cell_type": "markdown",
   "metadata": {},
   "source": [
    "# Data - Sinus + linear function \n",
    "\n",
    "The input model is the following:\n",
    "$$\n",
    "y = \\mathrm{A} \\sin(x) + \\mathrm{B}  x \n",
    "$$\n",
    "it has 2 parameters: A and B.\n",
    "\n",
    "We are going to create $y$ based on $x$ ranging between 0 and 20 for a sample of 200 points. The errors on $y$ will be random errors with a scale of 7.\n",
    "\n",
    "#### Data used: A= 10 ; B = 4"
   ]
  },
  {
   "cell_type": "code",
   "execution_count": 9,
   "metadata": {
    "collapsed": false
   },
   "outputs": [],
   "source": [
    "x = np.linspace(0,20,100)"
   ]
  },
  {
   "cell_type": "code",
   "execution_count": 10,
   "metadata": {
    "collapsed": false
   },
   "outputs": [],
   "source": [
    "dy = np.random.normal(0,7,100)\n",
    "y = 10*np.sin(x) + 4*x + dy"
   ]
  },
  {
   "cell_type": "markdown",
   "metadata": {},
   "source": [
    "The is how it looks like"
   ]
  },
  {
   "cell_type": "code",
   "execution_count": 11,
   "metadata": {
    "collapsed": false
   },
   "outputs": [
    {
     "data": {
      "text/plain": [
       "[<matplotlib.lines.Line2D at 0x1057eaf10>]"
      ]
     },
     "execution_count": 11,
     "metadata": {},
     "output_type": "execute_result"
    },
    {
     "data": {
      "image/png": "[encoded data removed]",
      "text/plain": [
       "<matplotlib.figure.Figure at 0x105723e90>"
      ]
     },
     "metadata": {},
     "output_type": "display_data"
    }
   ],
   "source": [
    "mpl.plot(x,y,\"ob\")"
   ]
  },
  {
   "cell_type": "markdown",
   "metadata": {},
   "source": [
    "# The Fitting class\n",
    "\n",
    "We saw the inheritance concept in class. Here the Parent class has all the modules requested for the fit, and the child classes will have to have the `get_model` method, that takes in input `parameters` and return a model-array. This model will then be compared to the data in the Parent's `get_chi2` method."
   ]
  },
  {
   "cell_type": "code",
   "execution_count": 33,
   "metadata": {
    "collapsed": false
   },
   "outputs": [],
   "source": [
    "class Chi2Fit( object ):\n",
    "    \n",
    "    def __init__(self, x, data, errors):\n",
    "        \"\"\" init the class\n",
    "        \n",
    "        Parameters:\n",
    "        -----------\n",
    "        x: [array]\n",
    "            the x-axis used for the modeling. \n",
    "        data, errors: [arrays]\n",
    "            measurement and its associated errors\n",
    "        \n",
    "        Note: x,data and errors must have the same size\n",
    "        \n",
    "        Return\n",
    "        ------\n",
    "        Void\n",
    "        \"\"\"\n",
    "        self.x    = np.asarray(x)\n",
    "        self.data = np.asarray(data)\n",
    "        self.errors = np.asarray(errors)\n",
    "        self.npoints = len(data)\n",
    "        \n",
    "    def fit(self,guess):\n",
    "        \"\"\" fit the model to the data \n",
    "        \n",
    "        The methods uses scipy.optimize.minize to fit the model \n",
    "        to the data. The fit output is saved as self.fitout, the \n",
    "        best fit parameters being self.fitout[\"x\"]\n",
    "        \n",
    "        Parameters\n",
    "        ----------\n",
    "        guess: [array]\n",
    "            initial guess for the minimizer. It's size must correspond\n",
    "            to the amount of free parameters of the model.\n",
    "            \n",
    "        Return\n",
    "        ------\n",
    "        Void (create self.fitout)\n",
    "        \"\"\"\n",
    "        from scipy.optimize import minimize\n",
    "        self.fitout = minimize(self.chi2, guess)\n",
    "        print self.fitout\n",
    "        \n",
    "    def get_model(self,parameters):\n",
    "        \"\"\" YOU HAVE TO IMPLEMENT THIS METHOD\n",
    "        \n",
    "        This method should return the model-array that will be \n",
    "        compared to self.data\n",
    "        \"\"\"\n",
    "        raise NotImplementedError(\" CREATE IT IN YOUR CLASS\") \n",
    "        \n",
    "        \n",
    "    def chi2(self,parameters):\n",
    "        \"\"\" The chi2 of the model with the given `parameters` \n",
    "        in comparison to the object's data \n",
    "        \n",
    "        Return\n",
    "        ------\n",
    "        float (the chi2)\n",
    "        \"\"\"\n",
    "        res = self.data - self.get_model(parameters)\n",
    "        chi2 = (res**2)/(self.errors**2)\n",
    "        return np.sum(chi2)\n",
    "    \n",
    "    def plot(self, parameters):\n",
    "        \"\"\" Vizualize the data and the model for the given\n",
    "        parameters\n",
    "        \n",
    "        Return\n",
    "        ------\n",
    "        Void\n",
    "        \"\"\"\n",
    "        fig = mpl.figure()\n",
    "        ax = fig.add_subplot(1,1,1)\n",
    "        ax.errorbar(self.x,self.data, yerr= self.errors, \n",
    "                    ls=\"None\",marker='o', color=\"b\", ecolor=\"0.7\")\n",
    "        ax.plot(self.x,self.get_model(parameters),'-r')\n",
    "        fig.show()\n",
    "        \n",
    "# ----------------- #\n",
    "# The Actual Model  #\n",
    "# ----------------- #\n",
    "class SinFit( Chi2Fit ):\n",
    "    def get_model(self,parameters):\n",
    "        \"\"\" the modeled array for the given parameters\n",
    "        The model is:\n",
    "        $$\n",
    "          A sin(x) + B*x\n",
    "        $$\n",
    "        such that A,B = parameters\n",
    "        \n",
    "        Return\n",
    "        ------\n",
    "        array\n",
    "        \"\"\"\n",
    "        A,B = parameters\n",
    "        return A*np.sin(self.x) + B*self.x\n",
    "\n",
    "class LinFit( Chi2Fit ):\n",
    "    def get_model(self,parameters):\n",
    "        \"\"\" the modeled array for the given parameters\n",
    "        The model is:\n",
    "        $$\n",
    "          A + B*x\n",
    "        $$\n",
    "        such that A,B = parameters\n",
    "        \n",
    "        Return\n",
    "        ------\n",
    "        array\n",
    "        \"\"\"\n",
    "        A,B = parameters\n",
    "        return A + B*self.x"
   ]
  },
  {
   "cell_type": "code",
   "execution_count": 34,
   "metadata": {
    "collapsed": false
   },
   "outputs": [],
   "source": [
    "sinfit = SinFit(x,y,dy)\n",
    "linfit = LinFit(x,y,dy)"
   ]
  },
  {
   "cell_type": "code",
   "execution_count": 35,
   "metadata": {
    "collapsed": false
   },
   "outputs": [
    {
     "name": "stdout",
     "output_type": "stream",
     "text": [
      "   status: 0\n",
      "  success: True\n",
      "     njev: 7\n",
      "     nfev: 28\n",
      " hess_inv: array([[  4.50599500e-03,   1.15539475e-04],\n",
      "       [  1.15539475e-04,   2.71583739e-05]])\n",
      "      fun: 96.24270930385714\n",
      "        x: array([ 9.89861855,  3.98614742])\n",
      "  message: 'Optimization terminated successfully.'\n",
      "      jac: array([  8.58306885e-06,   7.62939453e-06])\n"
     ]
    }
   ],
   "source": [
    "sinfit.fit([2,3])"
   ]
  },
  {
   "cell_type": "code",
   "execution_count": 36,
   "metadata": {
    "collapsed": false
   },
   "outputs": [
    {
     "name": "stdout",
     "output_type": "stream",
     "text": [
      "   status: 2\n",
      "  success: False\n",
      "     njev: 33\n",
      "     nfev: 140\n",
      " hess_inv: array([[ 0.01194996, -0.00105857],\n",
      "       [-0.00105857,  0.00011793]])\n",
      "      fun: 10710.244531828332\n",
      "        x: array([-2.59320352,  3.96694916])\n",
      "  message: 'Desired error not necessarily achieved due to precision loss.'\n",
      "      jac: array([ 0.        , -0.00024414])\n"
     ]
    }
   ],
   "source": [
    "linfit.fit([2,3])"
   ]
  },
  {
   "cell_type": "code",
   "execution_count": 45,
   "metadata": {
    "collapsed": false
   },
   "outputs": [
    {
     "name": "stdout",
     "output_type": "stream",
     "text": [
      "[ 9.89861855  3.98614742]\n",
      "(the input being: 10, 4)\n"
     ]
    },
    {
     "data": {
      "image/png": "[encoded data removed]",
      "text/plain": [
       "<matplotlib.figure.Figure at 0x107587150>"
      ]
     },
     "metadata": {},
     "output_type": "display_data"
    }
   ],
   "source": [
    "sinfit.plot(sinfit.fitout[\"x\"])\n",
    "print(sinfit.fitout[\"x\"])\n",
    "print(\"(the input being: 10, 4)\")"
   ]
  },
  {
   "cell_type": "code",
   "execution_count": 41,
   "metadata": {
    "collapsed": false
   },
   "outputs": [
    {
     "name": "stdout",
     "output_type": "stream",
     "text": [
      "[-2.59320352  3.96694916]\n"
     ]
    },
    {
     "data": {
      "image/png": "[encoded data removed]",
      "text/plain": [
       "<matplotlib.figure.Figure at 0x106c9f2d0>"
      ]
     },
     "metadata": {},
     "output_type": "display_data"
    }
   ],
   "source": [
    "linfit.plot(linfit.fitout[\"x\"])\n",
    "print(linfit.fitout[\"x\"])"
   ]
  },
  {
   "cell_type": "code",
   "execution_count": null,
   "metadata": {
    "collapsed": true
   },
   "outputs": [],
   "source": []
  }
 ],
 "metadata": {
  "kernelspec": {
   "display_name": "Python 2",
   "language": "python",
   "name": "python2"
  },
  "language_info": {
   "codemirror_mode": {
    "name": "ipython",
    "version": 2
   },
   "file_extension": ".py",
   "mimetype": "text/x-python",
   "name": "python",
   "nbconvert_exporter": "python",
   "pygments_lexer": "ipython2",
   "version": "2.7.10"
  }
 },
 "nbformat": 4,
 "nbformat_minor": 0
}
