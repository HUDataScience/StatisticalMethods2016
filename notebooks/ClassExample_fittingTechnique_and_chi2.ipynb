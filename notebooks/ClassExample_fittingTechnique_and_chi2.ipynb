{
 "cells": [
  {
   "cell_type": "code",
   "execution_count": 1,
   "metadata": {
    "collapsed": true
   },
   "outputs": [],
   "source": [
    "# ==  Basic import == #\n",
    "# plot within the notebook\n",
    "%matplotlib inline\n",
    "# No annoying warnings\n",
    "import warnings\n",
    "warnings.filterwarnings('ignore')"
   ]
  },
  {
   "cell_type": "code",
   "execution_count": 2,
   "metadata": {
    "collapsed": true
   },
   "outputs": [],
   "source": [
    "import numpy as np\n",
    "import matplotlib.pyplot as mpl"
   ]
  },
  {
   "cell_type": "markdown",
   "metadata": {},
   "source": [
    "# Fit a Sinus function"
   ]
  },
  {
   "cell_type": "code",
   "execution_count": 11,
   "metadata": {
    "collapsed": false
   },
   "outputs": [],
   "source": [
    "x = np.linspace(0,20,100)"
   ]
  },
  {
   "cell_type": "code",
   "execution_count": 54,
   "metadata": {
    "collapsed": false
   },
   "outputs": [],
   "source": [
    "dy = np.random.normal(0,7,100)\n",
    "y = 10*np.sin(x) + 4*x + dy"
   ]
  },
  {
   "cell_type": "code",
   "execution_count": null,
   "metadata": {
    "collapsed": true
   },
   "outputs": [],
   "source": [
    " x: array([ 10.09134053,   3.99644833])"
   ]
  },
  {
   "cell_type": "code",
   "execution_count": 55,
   "metadata": {
    "collapsed": false
   },
   "outputs": [
    {
     "data": {
      "text/plain": [
       "[<matplotlib.lines.Line2D at 0x107b68950>]"
      ]
     },
     "execution_count": 55,
     "metadata": {},
     "output_type": "execute_result"
    },
    {
     "data": {
      "image/png": "[encoded data removed]",
      "text/plain": [
       "<matplotlib.figure.Figure at 0x1079ac850>"
      ]
     },
     "metadata": {},
     "output_type": "display_data"
    }
   ],
   "source": [
    "mpl.plot(x,y,\"ob\")"
   ]
  },
  {
   "cell_type": "markdown",
   "metadata": {},
   "source": [
    "# The Fit class"
   ]
  },
  {
   "cell_type": "code",
   "execution_count": 94,
   "metadata": {
    "collapsed": false
   },
   "outputs": [],
   "source": [
    "class Chi2Fit( object ):\n",
    "    \n",
    "    def __init__(self, x, data, errors):\n",
    "        \"\"\" init the class\"\"\"\n",
    "        self.x    = np.asarray(x)\n",
    "        self.data = np.asarray(data)\n",
    "        self.errors = np.asarray(errors)\n",
    "        self.npoints = len(data)\n",
    "        \n",
    "    def fit(self,guess):\n",
    "        \"\"\" \"\"\"\n",
    "        from scipy.optimize import minimize\n",
    "        self.fitout = minimize(self.chi2, guess)\n",
    "        print self.fitout\n",
    "        \n",
    "    def get_model(self,parameters):\n",
    "        \"\"\" \"\"\"\n",
    "        raise NotImplementedError(\" CREATE IT IN YOUR CLASS\") \n",
    "        \n",
    "    def chi2(self,parameters):\n",
    "        \"\"\" \"\"\"\n",
    "        res = self.data - self.get_model(parameters)\n",
    "        chi2 = (res**2)/(self.errors**2)\n",
    "        return np.sum(chi2)\n",
    "    \n",
    "    def plot(self, parameters):\n",
    "        \"\"\" \"\"\"\n",
    "        fig = mpl.figure()\n",
    "        ax = fig.add_subplot(1,1,1)\n",
    "        ax.plot(self.x,self.data, 'ob')\n",
    "        ax.plot(self.x,self.get_model(parameters),'-r')\n",
    "        fig.show()\n",
    "        \n",
    "        \n",
    "class SinFit( Chi2Fit ):\n",
    "    def get_model(self,parameters):\n",
    "        \"\"\" \"\"\"\n",
    "        A,B = parameters\n",
    "        return A*np.sin(self.x) + B*self.x\n",
    "\n",
    "class LinFit( Chi2Fit ):\n",
    "    \n",
    "    def get_model(self,parameters):\n",
    "        \"\"\" \"\"\"\n",
    "        A,B = parameters\n",
    "        return A + B*self.x"
   ]
  },
  {
   "cell_type": "code",
   "execution_count": 95,
   "metadata": {
    "collapsed": false
   },
   "outputs": [],
   "source": [
    "sinfit = SinFit(x,y,dy)\n",
    "linfit = LinFit(x,y,dy)"
   ]
  },
  {
   "cell_type": "code",
   "execution_count": 96,
   "metadata": {
    "collapsed": false
   },
   "outputs": [
    {
     "name": "stdout",
     "output_type": "stream",
     "text": [
      "   status: 0\n",
      "  success: True\n",
      "     njev: 7\n",
      "     nfev: 28\n",
      " hess_inv: array([[  9.95504880e-03,   1.44264226e-05],\n",
      "       [  1.44264226e-05,   7.49988341e-05]])\n",
      "      fun: 99.49045442605589\n",
      "        x: array([ 10.09134053,   3.99644833])\n",
      "  message: 'Optimization terminated successfully.'\n",
      "      jac: array([ -9.53674316e-07,  -7.62939453e-06])\n"
     ]
    }
   ],
   "source": [
    "sinfit.fit([1,4])"
   ]
  },
  {
   "cell_type": "code",
   "execution_count": 97,
   "metadata": {
    "collapsed": false
   },
   "outputs": [
    {
     "name": "stdout",
     "output_type": "stream",
     "text": [
      "   status: 0\n",
      "  success: True\n",
      "     njev: 10\n",
      "     nfev: 40\n",
      " hess_inv: array([[ 0.01804101, -0.00170722],\n",
      "       [-0.00170722,  0.00021923]])\n",
      "      fun: 1905.656375239467\n",
      "        x: array([ 9.484183  ,  3.17854105])\n",
      "  message: 'Optimization terminated successfully.'\n",
      "      jac: array([ 0.,  0.])\n"
     ]
    }
   ],
   "source": [
    "linfit.fit([1,4])"
   ]
  },
  {
   "cell_type": "code",
   "execution_count": 98,
   "metadata": {
    "collapsed": false
   },
   "outputs": [
    {
     "data": {
      "image/png": "[encoded data removed]",
      "text/plain": [
       "<matplotlib.figure.Figure at 0x107e4b410>"
      ]
     },
     "metadata": {},
     "output_type": "display_data"
    }
   ],
   "source": [
    "sinfit.plot(sinfit.fitout[\"x\"])"
   ]
  },
  {
   "cell_type": "code",
   "execution_count": 99,
   "metadata": {
    "collapsed": false
   },
   "outputs": [
    {
     "data": {
      "image/png": "[encoded data removed]",
      "text/plain": [
       "<matplotlib.figure.Figure at 0x108853b50>"
      ]
     },
     "metadata": {},
     "output_type": "display_data"
    }
   ],
   "source": [
    "linfit.plot(linfit.fitout[\"x\"])"
   ]
  },
  {
   "cell_type": "code",
   "execution_count": null,
   "metadata": {
    "collapsed": true
   },
   "outputs": [],
   "source": []
  }
 ],
 "metadata": {
  "kernelspec": {
   "display_name": "Python 2",
   "language": "python",
   "name": "python2"
  },
  "language_info": {
   "codemirror_mode": {
    "name": "ipython",
    "version": 2
   },
   "file_extension": ".py",
   "mimetype": "text/x-python",
   "name": "python",
   "nbconvert_exporter": "python",
   "pygments_lexer": "ipython2",
   "version": "2.7.10"
  }
 },
 "nbformat": 4,
 "nbformat_minor": 0
}
