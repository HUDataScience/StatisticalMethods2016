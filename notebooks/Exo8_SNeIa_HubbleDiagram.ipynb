{
 "cells": [
  {
   "cell_type": "markdown",
   "metadata": {},
   "source": [
    "# Exercise 8 – Fit an Hubble Diagram\n",
    "\n",
    "\n",
    "## The SN Ia Science in short\n",
    "\n",
    "The Type Ia Supernova event is the thermonuclear runaway of a white dwarf. This bright event is extremely stable and the maximum of luminosity of any explosion reaches roughly the same maximum magnitude `M0`. Two additional parameters: the speed of evolution of the explosion `x1` (also called stretch) and the color of the event `color` enable to further standardize the SN maximum of luminosity. Thanks to the statibility of the absolute SN magnitude, the observation of the effective SN magnitude is a direct indication of the event's distance. Combined with the redshift measurement of the Supernovae -the redshift tracing the overall expansion of the Universe since the SN event- we can measurment the history of the expansion of the Universe. The magnitude vs. redshift plot is called an Hubble Diagram and the Hubble diagram of the SNe Ia enabled the discovery of the accelerated expansion of the Universe in 1999, and thereby of the existance of dark energy (Noble 2011)\n",
    "\n",
    "## Data you have to measures the density Dark Energy\n",
    "\n",
    "The latest compilation of Type Ia Supernovae Data has ~1000 SN Ia distance measurements. The data are registered\n",
    "in \n",
    "\n",
    "`notebooks/data/SNeIaCosmo/jla_lcparams.txt`\n",
    "\n",
    "## The Model\n",
    "\n",
    "In this example we will use the most straightforward analysis. The stretch and color corrected magnitude of the SNe Ia is:\n",
    "\n",
    "$$\n",
    "mb_{corr} = mb - (x1 \\times \\alpha - color \\times \\beta)\n",
    "$$\n",
    "\n",
    "The expected magnitude of the SNe Ia is:\n",
    "\n",
    "$$\n",
    "mb_{expected} = \\mu \\left(z, \\Omega \\right) + M_0\n",
    "$$\n",
    "\n",
    "where $\\mu\\left(z, \\Omega \\right)$ is the distance modulus (distance in log scale) for a given cosmology. To have access to $\\mu$ use `astropy`. \n",
    "\n",
    "In the flat Lambda CDM model, the only free cosmological parameter you can fit is `Omega_m`, the density of matter today, knowing that, in that case, the density of dark energy is `1-Omega_m`\n",
    "\n",
    "#### Astropy\n",
    "\n",
    "The website with all the information is here http://www.astropy.org/\n",
    "\n",
    "If you installed python using Anaconda, you should have astropy. Otherwise `sudo pip install astropy` should work\n",
    "\n",
    "To get the cosmology for an Hubble Constant of 70 (use that) and for a given density of matter (Omega_m, which will be one of your free parameter):\n",
    "```python\n",
    "from astropy import cosmology\n",
    "cosmo = cosmology.FlatLambdaCDM(70, Omega_m)\n",
    "```\n",
    "To get the distance modulus\n",
    "```python\n",
    "from astropy import cosmology\n",
    "mu = cosmology.FlatLambdaCDM(70, Omega_m).distmod(z).value\n",
    "```\n",
    "\n",
    "\n",
    "\n",
    "\n",
    "## Your Job: find the density of Dark energy\n",
    "\n",
    "Create a Chi2 fitting class that enables to derive the density of dark energy. You should find `Omega_m~0.3` so a universe composed of ~70% of dark energy and 30% of matter\n",
    "\n",
    "Plot an Hubble diagram showing the corrected SN mangitude (`mb_corr`) as a function of the redshift (`zcmb`). Overplot the model. \n",
    "\n",
    "**Remark** `alpha` `beta` and `M0` have to be fitted together with the cosmology, we call that 'nuisance parameters'\n",
    "\n",
    "**Remark 2** ignore errors on the redshift (`z`), but take into account errors on `mb` and on the `x1` and `color` parameters. For this example ignore the covariance terms."
   ]
  },
  {
   "cell_type": "markdown",
   "metadata": {},
   "source": [
    "***\n",
    "# Correction \n",
    "***"
   ]
  },
  {
   "cell_type": "code",
   "execution_count": 1,
   "metadata": {
    "collapsed": true
   },
   "outputs": [],
   "source": [
    "import warnings\n",
    "# No annoying warnings\n",
    "warnings.filterwarnings('ignore')\n",
    "# Because we always need that\n",
    "# plot within the notebook\n",
    "%matplotlib inline\n",
    "import numpy as np\n",
    "import matplotlib.pyplot as mpl"
   ]
  },
  {
   "cell_type": "markdown",
   "metadata": {},
   "source": [
    "## First Steps access the Data\n",
    "\n",
    "#### Import for the cosmological analysis (an also the convenient table)"
   ]
  },
  {
   "cell_type": "code",
   "execution_count": 4,
   "metadata": {
    "collapsed": true
   },
   "outputs": [],
   "source": [
    "from astropy import table, cosmology"
   ]
  },
  {
   "cell_type": "markdown",
   "metadata": {},
   "source": [
    "#### Read the data"
   ]
  },
  {
   "cell_type": "code",
   "execution_count": 17,
   "metadata": {
    "collapsed": false
   },
   "outputs": [],
   "source": [
    "data = table.Table.read(\"data/SNeIaCosmo/jla_lcparams.txt\", format=\"ascii\")"
   ]
  },
  {
   "cell_type": "code",
   "execution_count": 18,
   "metadata": {
    "collapsed": false
   },
   "outputs": [
    {
     "data": {
      "text/plain": [
       "['name',\n",
       " 'zcmb',\n",
       " 'zhel',\n",
       " 'dz',\n",
       " 'mb',\n",
       " 'dmb',\n",
       " 'x1',\n",
       " 'dx1',\n",
       " 'color',\n",
       " 'dcolor',\n",
       " '3rdvar',\n",
       " 'd3rdvar',\n",
       " 'cov_m_s',\n",
       " 'cov_m_c',\n",
       " 'cov_s_c',\n",
       " 'set',\n",
       " 'ra',\n",
       " 'dec',\n",
       " 'biascor']"
      ]
     },
     "execution_count": 18,
     "metadata": {},
     "output_type": "execute_result"
    }
   ],
   "source": [
    "data.colnames"
   ]
  },
  {
   "cell_type": "markdown",
   "metadata": {},
   "source": [
    "## The Chi2 Method\n",
    "\n",
    "an introduction of the \"property\" and \"setter\" decorators\n",
    "\n",
    "decorators are kind-of functions of function. Check e.g., http://thecodeship.com/patterns/guide-to-python-function-decorators/"
   ]
  },
  {
   "cell_type": "code",
   "execution_count": 71,
   "metadata": {
    "collapsed": true
   },
   "outputs": [],
   "source": [
    "# copy paste of a class build before\n",
    "\n",
    "class Chi2Fit( object ):\n",
    "    \n",
    "    def __init__(self, jla_data=None):\n",
    "        \"\"\" init the class\n",
    "        \n",
    "        Parameters:\n",
    "        -----------\n",
    "        jla_data: [astropy.table]\n",
    "            Astropy Table containing the Supernovae properties\n",
    "            (zcmb, mb, x1, color etc.)\n",
    "        \n",
    "        Return\n",
    "        ------\n",
    "        Void\n",
    "        \"\"\"\n",
    "        if jla_data is not None:\n",
    "            self.set_data(jla_data)\n",
    "\n",
    "    # ------------------- #\n",
    "    #   Setter            #\n",
    "    # ------------------- #        \n",
    "    def set_data(self, datatable):\n",
    "        \"\"\" Set the data of the class. This must be an astropy table \"\"\"\n",
    "        # use this tricks to forbid the user to overwrite self.data...\n",
    "        self._data = datatable\n",
    "        \n",
    "        \n",
    "        \n",
    "        \n",
    "        \n",
    "    def setup(self, parameters):\n",
    "        \"\"\" Set the parameters of the class: \n",
    "        - alpha\n",
    "        - beta\n",
    "        - Om\n",
    "        - M0\n",
    "        \"\"\"\n",
    "        self._parameters = parameters  \n",
    "        \n",
    "    # ------------------- #\n",
    "    #   GETTER            #\n",
    "    # ------------------- #\n",
    "    def get_mbcorr(self, parameters):\n",
    "        \"\"\" corrected sn magnitude with its associated variance\"\"\"\n",
    "        return self.mb - (self.x1*parameters[0] + self.color*parameters[1]),\\\n",
    "            self.mb_err**2 + (self.x1*parameters[0])**2 + (self.color*parameters[1])**2\n",
    "    \n",
    "    def get_mbexp(self, parameters, z=None):\n",
    "        \"\"\" corrected sn magnitude with its associated error\"\"\"\n",
    "        zused = z if z is not None else self.zcmb\n",
    "        return cosmology.FlatLambdaCDM(70, parameters[2]).distmod(zused ).value + parameters[3]\n",
    "        \n",
    "    \n",
    "    def fit(self,guess):\n",
    "        \"\"\" fit the model to the data \n",
    "        \n",
    "        The methods uses scipy.optimize.minize to fit the model \n",
    "        to the data. The fit output is saved as self.fitout, the \n",
    "        best fit parameters being self.fitout[\"x\"]\n",
    "        \n",
    "        Parameters\n",
    "        ----------\n",
    "        guess: [array]\n",
    "            initial guess for the minimizer. It's size must correspond\n",
    "            to the amount of free parameters of the model.\n",
    "            \n",
    "        Return\n",
    "        ------\n",
    "        Void (create self.fitout)\n",
    "        \"\"\"\n",
    "        from scipy.optimize import minimize\n",
    "        bounds = [[None,None],[None,None],[0,None],[None,None]]\n",
    "        self.fitout = minimize(self.chi2, guess,bounds=bounds)\n",
    "        print self.fitout\n",
    "        self._bestfitparameters = self.fitout[\"x\"]\n",
    " \n",
    "    def chi2(self,parameters):\n",
    "        \"\"\" The chi2 of the model with the given `parameters` \n",
    "        in comparison to the object's data \n",
    "        \n",
    "        Return\n",
    "        ------\n",
    "        float (the chi2)\n",
    "        \"\"\"\n",
    "        mbcorr, mbcorr_var = self.get_mbcorr(parameters)\n",
    "        mb_exp = self.get_mbexp(parameters)\n",
    "        chi2 = ((mbcorr-mb_exp)**2)/(mbcorr_var)\n",
    "        \n",
    "        return np.sum(chi2)\n",
    "    \n",
    "    def plot(self, parameters):\n",
    "        \"\"\" Vizualize the data and the model for the given\n",
    "        parameters\n",
    "        \n",
    "        Return\n",
    "        ------\n",
    "        Void\n",
    "        \"\"\"\n",
    "        fig = mpl.figure()\n",
    "        ax = fig.add_subplot(1,1,1)\n",
    "        \n",
    "        self.setup(parameters)\n",
    "        \n",
    "        ax.errorbar(self.zcmb,self.setted_mbcorr, \n",
    "                    yerr=self.setted_mbcorr_err, ls=\"None\",marker='o', color=\"b\", \n",
    "                    ecolor=\"0.7\")\n",
    "        x = np.linspace(0.001,1.4,10000)\n",
    "            #print self.get_cosmo_distmod(parameters,x)\n",
    "        ax.plot(x,self.get_mbexp(self._parameters,x),'-r', scalex=False,scaley=False)\n",
    "        fig.show()\n",
    "        \n",
    "        \n",
    "    # ================== #\n",
    "    #  Properties        #\n",
    "    # ================== #\n",
    "    @property\n",
    "    def data(self):\n",
    "        \"\"\" Data table containing the data of the instance \"\"\"\n",
    "        return self._data\n",
    "\n",
    "    @data.setter\n",
    "    def data(self, newdata):\n",
    "        \"\"\" Set the data \"\"\"\n",
    "        # add all the relevant tests\n",
    "        print \"You setted new data\"\n",
    "        self._data = newdata\n",
    "    \n",
    "    @property\n",
    "    def npoints(self):\n",
    "        \"\"\" number of data points \"\"\"\n",
    "        return len(self.data)\n",
    "    \n",
    "    # ----------\n",
    "    # - Parameters\n",
    "    \n",
    "    @property\n",
    "    def parameters(self):\n",
    "        \"\"\" Current parameters of the fit \"\"\"\n",
    "        if not self.has_parameters():\n",
    "            raise ValueError(\"No Parameters defined. See the self.setup() method\")\n",
    "        return self._parameters\n",
    "    \n",
    "    def has_parameters(self):\n",
    "        return \"_parameters\" in dir(self)\n",
    "    \n",
    "    \n",
    "    \n",
    "    \n",
    "    # -- Current Param prop\n",
    "    @property\n",
    "    def _alpha(self):\n",
    "        return self._parameters[0]\n",
    "    @property\n",
    "    def _beta(self):\n",
    "        return self._parameters[1]\n",
    "    @property\n",
    "    def _omegam(self):\n",
    "        return self._parameters[2]\n",
    "    @property\n",
    "    def _M0(self):\n",
    "        return self._parameters[3]\n",
    "    \n",
    "    # -------\n",
    "    # -- Param derived properties\n",
    "    @property\n",
    "    def setted_mbcorr(self):\n",
    "        \"\"\" corrected hubble residuals\"\"\"\n",
    "        return self.get_mbcorr(self.parameters)[0]\n",
    "    @property\n",
    "    def setted_mbcorr_err(self):\n",
    "        \"\"\" corrected hubble residuals\"\"\"\n",
    "        return np.sqrt(self.get_mbcorr(self.parameters)[1])\n",
    "    \n",
    "    @property\n",
    "    def setted_mu(self):\n",
    "        \"\"\" distance modulus for the given cosmology \"\"\"\n",
    "        return cosmology.FlatLambdaCDM(70, _omegam).distmod(self.zcmb).value\n",
    "    \n",
    "    @property\n",
    "    def setted_M0(self):\n",
    "        \"\"\" absolute SN magnitude for the setted parameters \"\"\"\n",
    "        return self._M0\n",
    "    \n",
    "    @property\n",
    "    def setted_mbexp(self):\n",
    "        return self.setted_mu + self._M0\n",
    "    # -------\n",
    "    # -- Data derived properties\n",
    "    @property\n",
    "    def mb(self):\n",
    "        \"\"\" observed magnitude (in the b-band) of the Supernovae \"\"\"\n",
    "        return self.data[\"mb\"]\n",
    "    \n",
    "    @property\n",
    "    def mb_err(self):\n",
    "        \"\"\" observed magnitude (in the b-band) of the Supernovae \"\"\"\n",
    "        return self.data[\"dmb\"]\n",
    "    \n",
    "    @property\n",
    "    def x1(self):\n",
    "        \"\"\" Lightcurve stretch \"\"\"\n",
    "        return self.data[\"x1\"]\n",
    "    \n",
    "    @property\n",
    "    def x1_err(self):\n",
    "        \"\"\" errors on the Lightcurve stretch \"\"\"\n",
    "        return self.data[\"dx1\"]\n",
    "        \n",
    "    @property\n",
    "    def color(self):\n",
    "        \"\"\" Lightcurve color \"\"\"\n",
    "        return self.data[\"color\"]\n",
    "    \n",
    "    @property\n",
    "    def color_err(self):\n",
    "        \"\"\" errors on the Lightcurve color \"\"\"\n",
    "        return self.data[\"dcolor\"]\n",
    "    \n",
    "    @property\n",
    "    def zcmb(self):\n",
    "        \"\"\" cosmological redshift of the Supenovae \"\"\"\n",
    "        return self.data[\"zcmb\"]\n",
    "    \n",
    "    "
   ]
  },
  {
   "cell_type": "code",
   "execution_count": 72,
   "metadata": {
    "collapsed": false
   },
   "outputs": [],
   "source": [
    "c = Chi2Fit(data)"
   ]
  },
  {
   "cell_type": "code",
   "execution_count": 75,
   "metadata": {
    "collapsed": false
   },
   "outputs": [],
   "source": [
    "c.setup([ -0.18980149,   3.65435315,   0.32575054, -19.06810566])"
   ]
  },
  {
   "cell_type": "code",
   "execution_count": null,
   "metadata": {
    "collapsed": true
   },
   "outputs": [],
   "source": []
  },
  {
   "cell_type": "code",
   "execution_count": 78,
   "metadata": {
    "collapsed": false
   },
   "outputs": [
    {
     "data": {
      "text/html": [
       "&lt;Column name=&apos;mb&apos; dtype=&apos;float64&apos; length=740&gt;\n",
       "<table>\n",
       "<tr><td>23.2884937733</td></tr>\n",
       "<tr><td>23.8505058822</td></tr>\n",
       "<tr><td>23.1860815365</td></tr>\n",
       "<tr><td>22.3271927061</td></tr>\n",
       "<tr><td>24.3394763851</td></tr>\n",
       "<tr><td>23.411729863</td></tr>\n",
       "<tr><td>24.6563282585</td></tr>\n",
       "<tr><td>22.0490903156</td></tr>\n",
       "<tr><td>24.5143846363</td></tr>\n",
       "<tr><td>23.1350221599</td></tr>\n",
       "<tr><td>22.5801859785</td></tr>\n",
       "<tr><td>21.6811115368</td></tr>\n",
       "<tr><td>...</td></tr>\n",
       "<tr><td>16.948900557</td></tr>\n",
       "<tr><td>15.9116595047</td></tr>\n",
       "<tr><td>15.1386960013</td></tr>\n",
       "<tr><td>18.1847060979</td></tr>\n",
       "<tr><td>15.7213001106</td></tr>\n",
       "<tr><td>16.4934107678</td></tr>\n",
       "<tr><td>15.2782862214</td></tr>\n",
       "<tr><td>16.0930906814</td></tr>\n",
       "<tr><td>15.8951727612</td></tr>\n",
       "<tr><td>16.2154350712</td></tr>\n",
       "<tr><td>16.0219258888</td></tr>\n",
       "<tr><td>15.9404824912</td></tr>\n",
       "</table>"
      ],
      "text/plain": [
       "<Column name='mb' dtype='float64' length=740>\n",
       "23.2884937733\n",
       "23.8505058822\n",
       "23.1860815365\n",
       "22.3271927061\n",
       "24.3394763851\n",
       " 23.411729863\n",
       "24.6563282585\n",
       "22.0490903156\n",
       "24.5143846363\n",
       "23.1350221599\n",
       "22.5801859785\n",
       "21.6811115368\n",
       "          ...\n",
       " 16.948900557\n",
       "15.9116595047\n",
       "15.1386960013\n",
       "18.1847060979\n",
       "15.7213001106\n",
       "16.4934107678\n",
       "15.2782862214\n",
       "16.0930906814\n",
       "15.8951727612\n",
       "16.2154350712\n",
       "16.0219258888\n",
       "15.9404824912"
      ]
     },
     "execution_count": 78,
     "metadata": {},
     "output_type": "execute_result"
    }
   ],
   "source": [
    "c.setted_mbcorr"
   ]
  },
  {
   "cell_type": "code",
   "execution_count": null,
   "metadata": {
    "collapsed": true
   },
   "outputs": [],
   "source": []
  },
  {
   "cell_type": "code",
   "execution_count": null,
   "metadata": {
    "collapsed": true
   },
   "outputs": [],
   "source": []
  },
  {
   "cell_type": "code",
   "execution_count": null,
   "metadata": {
    "collapsed": true
   },
   "outputs": [],
   "source": []
  },
  {
   "cell_type": "code",
   "execution_count": null,
   "metadata": {
    "collapsed": true
   },
   "outputs": [],
   "source": []
  },
  {
   "cell_type": "code",
   "execution_count": null,
   "metadata": {
    "collapsed": true
   },
   "outputs": [],
   "source": []
  },
  {
   "cell_type": "code",
   "execution_count": 47,
   "metadata": {
    "collapsed": false
   },
   "outputs": [
    {
     "name": "stdout",
     "output_type": "stream",
     "text": [
      "      fun: 317.79605552693431\n",
      " hess_inv: <4x4 LbfgsInvHessProduct with dtype=float64>\n",
      "      jac: array([ -5.68434189e-04,  -5.11590770e-05,   2.89901436e-04,\n",
      "        -2.27373675e-04])\n",
      "  message: 'CONVERGENCE: REL_REDUCTION_OF_F_<=_FACTR*EPSMCH'\n",
      "     nfev: 320\n",
      "      nit: 35\n",
      "   status: 0\n",
      "  success: True\n",
      "        x: array([ -0.18980149,   3.65435315,   0.32575054, -19.06810566])\n"
     ]
    }
   ],
   "source": [
    "c.fit([0.13,3,0.2,-20])"
   ]
  },
  {
   "cell_type": "code",
   "execution_count": 48,
   "metadata": {
    "collapsed": false
   },
   "outputs": [
    {
     "data": {
      "image/png": "[encoded data removed]",
      "text/plain": [
       "<matplotlib.figure.Figure at 0x10cc838d0>"
      ]
     },
     "metadata": {},
     "output_type": "display_data"
    }
   ],
   "source": [
    "c.plot(c._bestfitparameters)"
   ]
  },
  {
   "cell_type": "code",
   "execution_count": 50,
   "metadata": {
    "collapsed": false
   },
   "outputs": [
    {
     "data": {
      "text/html": [
       "&lt;Column name=&apos;mb&apos; dtype=&apos;float64&apos; length=740&gt;\n",
       "<table>\n",
       "<tr><td>23.288493773</td></tr>\n",
       "<tr><td>23.850505882</td></tr>\n",
       "<tr><td>23.186081537</td></tr>\n",
       "<tr><td>22.3271927065</td></tr>\n",
       "<tr><td>24.3394763851</td></tr>\n",
       "<tr><td>23.4117298636</td></tr>\n",
       "<tr><td>24.6563282586</td></tr>\n",
       "<tr><td>22.0490903155</td></tr>\n",
       "<tr><td>24.5143846368</td></tr>\n",
       "<tr><td>23.13502216</td></tr>\n",
       "<tr><td>22.5801859785</td></tr>\n",
       "<tr><td>21.6811115362</td></tr>\n",
       "<tr><td>...</td></tr>\n",
       "<tr><td>16.9489005567</td></tr>\n",
       "<tr><td>15.911659505</td></tr>\n",
       "<tr><td>15.1386960014</td></tr>\n",
       "<tr><td>18.1847060974</td></tr>\n",
       "<tr><td>15.721300111</td></tr>\n",
       "<tr><td>16.4934107683</td></tr>\n",
       "<tr><td>15.278286222</td></tr>\n",
       "<tr><td>16.0930906811</td></tr>\n",
       "<tr><td>15.8951727615</td></tr>\n",
       "<tr><td>16.2154350712</td></tr>\n",
       "<tr><td>16.0219258885</td></tr>\n",
       "<tr><td>15.9404824912</td></tr>\n",
       "</table>"
      ],
      "text/plain": [
       "<Column name='mb' dtype='float64' length=740>\n",
       " 23.288493773\n",
       " 23.850505882\n",
       " 23.186081537\n",
       "22.3271927065\n",
       "24.3394763851\n",
       "23.4117298636\n",
       "24.6563282586\n",
       "22.0490903155\n",
       "24.5143846368\n",
       "  23.13502216\n",
       "22.5801859785\n",
       "21.6811115362\n",
       "          ...\n",
       "16.9489005567\n",
       " 15.911659505\n",
       "15.1386960014\n",
       "18.1847060974\n",
       " 15.721300111\n",
       "16.4934107683\n",
       " 15.278286222\n",
       "16.0930906811\n",
       "15.8951727615\n",
       "16.2154350712\n",
       "16.0219258885\n",
       "15.9404824912"
      ]
     },
     "execution_count": 50,
     "metadata": {},
     "output_type": "execute_result"
    }
   ],
   "source": [
    "c.setted_mbcorr"
   ]
  },
  {
   "cell_type": "code",
   "execution_count": null,
   "metadata": {
    "collapsed": true
   },
   "outputs": [],
   "source": []
  }
 ],
 "metadata": {
  "kernelspec": {
   "display_name": "Python 2",
   "language": "python",
   "name": "python2"
  },
  "language_info": {
   "codemirror_mode": {
    "name": "ipython",
    "version": 2
   },
   "file_extension": ".py",
   "mimetype": "text/x-python",
   "name": "python",
   "nbconvert_exporter": "python",
   "pygments_lexer": "ipython2",
   "version": "2.7.11"
  }
 },
 "nbformat": 4,
 "nbformat_minor": 0
}
