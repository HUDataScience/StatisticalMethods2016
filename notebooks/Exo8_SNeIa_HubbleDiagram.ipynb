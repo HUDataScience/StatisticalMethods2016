{
 "cells": [
  {
   "cell_type": "markdown",
   "metadata": {},
   "source": [
    "# Exercise 8 – Fit an Hubble Diagram\n",
    "\n",
    "\n",
    "## The SN Ia Science in short\n",
    "\n",
    "The Type Ia Supernova event is the thermonuclear runaway of a white dwarf. This bright event is extremely stable and the maximum of luminosity of any explosion reaches roughly the same maximum magnitude `M0`. Two additional parameters: the speed of evolution of the explosion `x1` (also called stretch) and the color of the event `color` enable to further standardize the SN maximum of luminosity. Thanks to the statibility of the absolute SN magnitude, the observation of the effective SN magnitude is a direct indication of the event's distance. Combined with the redshift measurement of the Supernovae -the redshift tracing the overall expansion of the Universe since the SN event- we can measurment the history of the expansion of the Universe. The magnitude vs. redshift plot is called an Hubble Diagram and the Hubble diagram of the SNe Ia enabled the discovery of the accelerated expansion of the Universe in 1999, and thereby of the existance of dark energy (Noble 2011)\n",
    "\n",
    "## Data you have to measures the density Dark Energy\n",
    "\n",
    "The latest compilation of Type Ia Supernovae Data has ~1000 SN Ia distance measurements. The data are registered\n",
    "in \n",
    "\n",
    "`notebooks/data/SNeIaCosmo/jla_lcparams.txt`\n",
    "\n",
    "## The Model\n",
    "\n",
    "In this example we will use the most straightforward analysis. The stretch and color corrected magnitude of the SNe Ia is:\n",
    "\n",
    "$$\n",
    "mb_{corr} = mb - (x1 \\times \\alpha - color \\times \\beta)\n",
    "$$\n",
    "\n",
    "The expected magnitude of the SNe Ia is:\n",
    "\n",
    "$$\n",
    "mb_{expected} = \\mu \\left(z, \\Omega \\right) + M_0\n",
    "$$\n",
    "\n",
    "where $\\mu\\left(z, \\Omega \\right)$ is the distance modulus (distance in log scale) for a given cosmology. To have access to $\\mu$ use `astropy`. \n",
    "\n",
    "In the flat Lambda CDM model, the only free cosmological parameter you can fit is `Omega_m`, the density of matter today, knowing that, in that case, the density of dark energy is `1-Omega_m`\n",
    "\n",
    "#### Astropy\n",
    "\n",
    "The website with all the information is here http://www.astropy.org/\n",
    "\n",
    "If you installed python using Anaconda, you should have astropy. Otherwise `sudo pip install astropy` should work\n",
    "\n",
    "To get the cosmology for an Hubble Constant of 70 (use that) and for a given density of matter (Omega_m, which will be one of your free parameter):\n",
    "```python\n",
    "from astropy import cosmology\n",
    "cosmo = cosmology.FlatLambdaCDM(70, Omega_m)\n",
    "```\n",
    "To get the distance modulus\n",
    "```python\n",
    "from astropy import cosmology\n",
    "mu = cosmology.FlatLambdaCDM(70, Omega_m).distmod(z).value\n",
    "```\n",
    "\n",
    "\n",
    "\n",
    "\n",
    "## Your Job: find the density of Dark energy\n",
    "\n",
    "Create a Chi2 fitting class that enables to derive the density of dark energy. You should find `Omega_m~0.3` so a universe composed of ~70% of dark energy and 30% of matter\n",
    "\n",
    "Plot an Hubble diagram showing the corrected SN mangitude (`mb_corr`) as a function of the redshift (`zcmb`). Overplot the model. \n",
    "\n",
    "**Remark** `alpha` `beta` and `M0` have to be fitted together with the cosmology, we call that 'nuisance parameters'\n",
    "\n",
    "**Remark 2** ignore errors on the redshift (`z`), but take into account errors on `mb` and on the `x1` and `color` parameters. For this example ignore the covariance terms."
   ]
  },
  {
   "cell_type": "code",
   "execution_count": null,
   "metadata": {
    "collapsed": true
   },
   "outputs": [],
   "source": []
  }
 ],
 "metadata": {
  "kernelspec": {
   "display_name": "Python 2",
   "language": "python",
   "name": "python2"
  },
  "language_info": {
   "codemirror_mode": {
    "name": "ipython",
    "version": 2
   },
   "file_extension": ".py",
   "mimetype": "text/x-python",
   "name": "python",
   "nbconvert_exporter": "python",
   "pygments_lexer": "ipython2",
   "version": "2.7.11"
  }
 },
 "nbformat": 4,
 "nbformat_minor": 0
}
