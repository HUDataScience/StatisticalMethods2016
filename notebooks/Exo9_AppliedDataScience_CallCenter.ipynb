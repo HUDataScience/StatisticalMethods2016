{
 "cells": [
  {
   "cell_type": "markdown",
   "metadata": {},
   "source": [
    "# Applied Data Science\n",
    "### Predict a call center activity\n",
    "\n",
    "\n",
    "A call center contacted you because they have several mounths of call history. To better plan their activity, they would like to accurately predict the amount of call they should expect.\n",
    "\n",
    "## The Data\n",
    "\n",
    "The data they provide is gathered in the `data/CallCenter` directory. As you see you have one listing per day of the week. The data are formated as follows: \n",
    "\n",
    "- 1st line: start of the time period\n",
    "- 2nd line: end of the time period\n",
    "- then: number of calls received during the period for the given week (week index = 1st column)\n",
    "\n",
    "## What do they want ?\n",
    "\n",
    "You are hired to give them the probability distribution function of the number of call they expect every day. \n",
    "You should be able to parametrize it. Also, because they are not statisticien, they want a clear anwser of the `5-95%` and `18-64%` intervals for the number of call expected every half-hour for each day of the week.\n",
    "\n",
    "# Good luck"
   ]
  },
  {
   "cell_type": "code",
   "execution_count": null,
   "metadata": {
    "collapsed": true
   },
   "outputs": [],
   "source": []
  }
 ],
 "metadata": {
  "kernelspec": {
   "display_name": "Python 2",
   "language": "python",
   "name": "python2"
  },
  "language_info": {
   "codemirror_mode": {
    "name": "ipython",
    "version": 2
   },
   "file_extension": ".py",
   "mimetype": "text/x-python",
   "name": "python",
   "nbconvert_exporter": "python",
   "pygments_lexer": "ipython2",
   "version": "2.7.11"
  }
 },
 "nbformat": 4,
 "nbformat_minor": 0
}
