{
 "cells": [
  {
   "cell_type": "markdown",
   "metadata": {},
   "source": [
    "# This is the \"python for Data Analysis\"  lesson.\n",
    "\n",
    "\n",
    "It uses jupyter ipython notebook. \n",
    "\n",
    "\n",
    "\n",
    "In this first ipython class let's see \n",
    "\n",
    "Teacher: _Mickael_ \n",
    "\n",
    "Tester: _Christian_\n",
    "\n",
    "website: [hu datascience](http://hudatascience.github.io/)"
   ]
  },
  {
   "cell_type": "code",
   "execution_count": 1,
   "metadata": {
    "collapsed": true
   },
   "outputs": [],
   "source": [
    "# ==  Basic import == #\n",
    "# plot within the notebook\n",
    "%matplotlib inline\n",
    "# No annoying warnings\n",
    "import warnings\n",
    "warnings.filterwarnings('ignore')"
   ]
  },
  {
   "cell_type": "markdown",
   "metadata": {
    "collapsed": true
   },
   "source": [
    "# Create the Data\n",
    "***\n",
    "\n",
    "Create two random variables, \"x\" and \"y\". \n",
    "Each must be an array of 100 points between 0 and 1 from an uniform distribution.\n",
    "\n",
    "Starts by importing numpy and then, use the random class numpy has. (more information about numpy.random [here](http://docs.scipy.org/doc/numpy/reference/routines.random.html))"
   ]
  },
  {
   "cell_type": "code",
   "execution_count": null,
   "metadata": {
    "collapsed": true
   },
   "outputs": [],
   "source": []
  },
  {
   "cell_type": "markdown",
   "metadata": {},
   "source": [
    "Print the variable to check the numbers looks correct."
   ]
  },
  {
   "cell_type": "code",
   "execution_count": null,
   "metadata": {
    "collapsed": true
   },
   "outputs": [],
   "source": []
  },
  {
   "cell_type": "markdown",
   "metadata": {},
   "source": [
    "# Visualize the Data\n",
    "***\n",
    "\n",
    "## Histograms\n",
    "Start by importing the pyplot library of matplotlib.pyplot (matplotlib.pyplot).\n",
    "\n",
    "All you need to know about matplotlib is [here](http://matplotlib.org/). Make use of this website that have most of what you need to ba able to use this plotting library (check [this](http://matplotlib.org/users/screenshots.html) for instance).\n",
    "\n",
    "### How the figures should look like?\n",
    "\n",
    "In the figures make:\n",
    "\n",
    "* histograms of \"x\" and \"y\" on 2 different figures.\n",
    "* \"x\" yellow and \"y\" blue\n",
    "* \"x\" with 12 bins and \"y\" with only 8."
   ]
  },
  {
   "cell_type": "code",
   "execution_count": null,
   "metadata": {
    "collapsed": true
   },
   "outputs": [],
   "source": []
  },
  {
   "cell_type": "markdown",
   "metadata": {},
   "source": [
    "#### Shared axis\n",
    "show x and y histograms in the same figure, give them labels (\"y\" as \"rain\" and \"x\" as \"sun\") and show the legend."
   ]
  },
  {
   "cell_type": "code",
   "execution_count": null,
   "metadata": {
    "collapsed": true
   },
   "outputs": [],
   "source": []
  },
  {
   "cell_type": "markdown",
   "metadata": {},
   "source": [
    "#### Make the plot pretty\n",
    "\n",
    "Most likely you do not see things really well...\n",
    "So first, force thenm to share the same range (say between -0.2 and 1.2), with 7 bins. Then, change the style (`type`) of the histogram to `step`. (use the `shift-tab` -you can do it twice in a row- trip to see function options). The x and y must still be yellow and blue and we should still see the legend. \n",
    "\n",
    "Alsom make the \"sun\" line thicker (say 2) and more transparent (say to 0.5).\n",
    "\n",
    "**Tip** check the lw (linewidth), ec (edgecolor), alpha, etc. options\n"
   ]
  },
  {
   "cell_type": "code",
   "execution_count": null,
   "metadata": {
    "collapsed": true
   },
   "outputs": [],
   "source": []
  },
  {
   "cell_type": "markdown",
   "metadata": {},
   "source": [
    "#### Last fancy step.\n",
    "\n",
    "the \"rain\" should be shown under the \"sun\" and it should be fully colored in blue (see the `fill` option). The x-axis should be labeled \"chance to have rain/sun\". and the y-axis,  number of hours.\n",
    "\n",
    "and make it as pertty as you wish."
   ]
  },
  {
   "cell_type": "code",
   "execution_count": null,
   "metadata": {
    "collapsed": true
   },
   "outputs": [],
   "source": []
  },
  {
   "cell_type": "markdown",
   "metadata": {},
   "source": [
    "## SCATTER PLOT\n",
    "\n",
    "Show the two y as a function of x. The marker should not be linked together by a line. The marker should be blue and the edge black. The x-axis should be called \"chance of sun\" and the y-axis \"chance to have rain\""
   ]
  },
  {
   "cell_type": "code",
   "execution_count": null,
   "metadata": {
    "collapsed": true
   },
   "outputs": [],
   "source": []
  }
 ],
 "metadata": {
  "kernelspec": {
   "display_name": "Python 2",
   "language": "python",
   "name": "python2"
  },
  "language_info": {
   "codemirror_mode": {
    "name": "ipython",
    "version": 2
   },
   "file_extension": ".py",
   "mimetype": "text/x-python",
   "name": "python",
   "nbconvert_exporter": "python",
   "pygments_lexer": "ipython2",
   "version": "2.7.10"
  }
 },
 "nbformat": 4,
 "nbformat_minor": 0
}
