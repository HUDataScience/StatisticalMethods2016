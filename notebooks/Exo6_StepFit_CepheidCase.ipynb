{
 "cells": [
  {
   "cell_type": "markdown",
   "metadata": {},
   "source": [
    "# Fit a Step – Exercise 6\n",
    "\n",
    "Base on the `Intrinsic Dispersion` fitting class you created last week create a new class that allow to **fit a step**.\n",
    "\n",
    "Let's imagine a physical process having a transition at a given threshold value. This could for instance be applied to astrophysics. Cepheids (pulsating stars) have an average magnitude (luminosity in log-scale) `m0` if their pulsating period is lower than, say, `10` and an average magnitude `m1` otherwise (nb: this is not true in real life). Each group has a natural dispersion of `sigma0` and `sigma1`, respectively.\n",
    "\n",
    "### Goal\n",
    "\n",
    "The pulsation and magnitude of each stars have been measured (see data) and we want to derive the average magnitudes (`m0`, `m1`) and natural dispersions (`sigma0`, `sigma1`) for the Cepheids.\n",
    "\n",
    "### Data\n",
    "\n",
    "The data are recorded in `data/Cepheid_StepFit.dat`\n",
    "\n",
    "### About the data and the probability for a star to be in the low- and high-frequency pulsation group\n",
    "\n",
    "The data have errors both on the pulsation and manitude measurements. **All errors are gaussian errors** \n",
    "Because of the errors on the pulsation measurements, a given star will have a probability `p0` to belong to the low-pulsation group (below `10`) and a probability `p1=1-p0` to belong to the high-pulsation one.\n",
    "\n"
   ]
  },
  {
   "cell_type": "code",
   "execution_count": null,
   "metadata": {
    "collapsed": true
   },
   "outputs": [],
   "source": []
  }
 ],
 "metadata": {
  "kernelspec": {
   "display_name": "Python 2",
   "language": "python",
   "name": "python2"
  },
  "language_info": {
   "codemirror_mode": {
    "name": "ipython",
    "version": 2
   },
   "file_extension": ".py",
   "mimetype": "text/x-python",
   "name": "python",
   "nbconvert_exporter": "python",
   "pygments_lexer": "ipython2",
   "version": "2.7.10"
  }
 },
 "nbformat": 4,
 "nbformat_minor": 0
}
