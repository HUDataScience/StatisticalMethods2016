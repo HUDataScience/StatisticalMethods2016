{
 "cells": [
  {
   "cell_type": "markdown",
   "metadata": {},
   "source": [
    "# Fit a Step\n",
    "\n",
    "Upgrade the Intrinsic Dispersion fitting class we created last week, to allow it to fit for a step function.\n",
    "\n",
    "Let's image a physical process having a transition at a given `xthresh` value. This could for instance be apply to astrophysics, say that Cepheids (pulsating stars) have a magnitude (luminosity in log-scale) `m0` if their pulsating period is lower than, say, `10` and a magnitude `m1` otherwise. Each magnitude has a natural dispersion of `sigma0` and `sigma1`, respectively.\n",
    "\n",
    "### Data\n",
    "\n",
    "The data are recorded in `data/Cepheid_StepFit.dat`\n",
    "\n",
    "### Goal\n",
    "\n",
    "The pulsation and magnitude of each stars have been measured (see data) and we want to derive the average magnitudes (`m0`, `m1`) and natural dispersions (`sigma0`, `sigma1`) for the Cepheids.\n",
    "\n",
    "### Information about the probability to be from one group or an other\n",
    "\n",
    "The data have errors both on the pulsation and manitude measurements. Because of the errors on the pulsation measurements, a given star will have a probability `p0` to belong to the low-pulsation group (below `10`) and a probability `p1=1-p0` to belong to the high-pulsation one.\n",
    "\n",
    "*"
   ]
  },
  {
   "cell_type": "code",
   "execution_count": null,
   "metadata": {
    "collapsed": true
   },
   "outputs": [],
   "source": []
  }
 ],
 "metadata": {
  "kernelspec": {
   "display_name": "Python 2",
   "language": "python",
   "name": "python2"
  },
  "language_info": {
   "codemirror_mode": {
    "name": "ipython",
    "version": 2
   },
   "file_extension": ".py",
   "mimetype": "text/x-python",
   "name": "python",
   "nbconvert_exporter": "python",
   "pygments_lexer": "ipython2",
   "version": "2.7.10"
  }
 },
 "nbformat": 4,
 "nbformat_minor": 0
}
